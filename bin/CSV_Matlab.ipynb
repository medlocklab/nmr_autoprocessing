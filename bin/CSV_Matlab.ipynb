{
 "cells": [
  {
   "cell_type": "code",
   "execution_count": 2,
   "metadata": {},
   "outputs": [],
   "source": [
    "import numpy as np\n",
    "import pandas as pd\n",
    "\n",
    "data = pd.read_csv('C:/Users/Alex/Documents/NMR RSPA/October_Data/10_11_20data_apod_phase_basecor1a.csv')"
   ]
  },
  {
   "cell_type": "code",
   "execution_count": 3,
   "metadata": {},
   "outputs": [
    {
     "name": "stdout",
     "output_type": "stream",
     "text": [
      "#                                  1\n",
      "Title       11102020-nmruser1.10.fid\n",
      "Class                            NaN\n",
      "-1.01825                   -0.760033\n",
      "-1.01804                   -0.688195\n",
      "-1.01782                   -0.616357\n",
      "-1.01761                   -0.544518\n",
      "-1.01740                   -0.333358\n",
      "-1.01718                   -0.122197\n",
      "-1.01697                   0.0889635\n",
      "-1.01675                    0.300124\n",
      "-1.01654                     0.27908\n",
      "Name: 0, dtype: object\n"
     ]
    }
   ],
   "source": [
    "#[360 rows x 65539 columns]\n",
    "print(data.iloc[0][:12])"
   ]
  },
  {
   "cell_type": "code",
   "execution_count": 6,
   "metadata": {},
   "outputs": [
    {
     "name": "stdout",
     "output_type": "stream",
     "text": [
      "   -1.01825  -1.01804  -1.01782  -1.01761  -1.01740  -1.01718  -1.01697  \\\n",
      "0 -0.760033 -0.688195 -0.616357 -0.544518 -0.333358 -0.122197  0.088964   \n",
      "1  0.105658 -0.059916 -0.225840 -0.391415 -0.189239  0.013285  0.215460   \n",
      "2 -0.201790 -0.503069 -0.327271 -0.151473  0.223106  0.597687  0.495190   \n",
      "3 -0.488056 -0.404324 -0.320591 -0.236858 -0.153127 -0.069394  0.014338   \n",
      "4 -0.959973 -0.335005 -0.377040 -0.419075 -0.261008 -0.102942  0.055123   \n",
      "\n",
      "   -1.01675  -1.01654  -1.01633  ...   9.99934   9.99955   9.99977   9.99998  \\\n",
      "0  0.300124  0.279080  0.258037  ... -0.613454 -0.154489  0.304478  0.484798   \n",
      "1  0.417984  0.081955 -0.253726  ... -0.235251 -0.361785 -0.488318 -0.447536   \n",
      "2  0.392693  0.570975  0.749258  ...  0.413192  0.163783 -0.085627 -0.335036   \n",
      "3  0.098071  0.053413  0.008757  ... -0.104282 -0.236161 -0.368039 -0.187317   \n",
      "4  0.213189  0.090558 -0.032073  ... -0.070982 -0.221405 -0.371829 -0.388851   \n",
      "\n",
      "    10.0002   10.0004   10.0006   10.0008   10.0011   10.0013  \n",
      "0  0.665119  0.845441  1.025760  1.102680  1.179600  0.699224  \n",
      "1 -0.406752 -0.365968 -0.325185  0.706258  1.737700  1.876780  \n",
      "2 -0.584445 -0.833855 -1.083260 -0.876717 -0.670170  0.132723  \n",
      "3 -0.006595  0.174128  0.354851  0.471378  0.587906  0.704433  \n",
      "4 -0.405873 -0.422896 -0.439919 -0.455551 -0.471185 -0.486817  \n",
      "\n",
      "[5 rows x 51491 columns]\n",
      "<class 'numpy.float64'>\n"
     ]
    }
   ],
   "source": [
    "d = data.drop(['#', 'Title', 'Class'],axis = 1)\n",
    "print(d.head())\n",
    "\n",
    "datas = np.array(d)\n",
    "\n",
    "cols = list(map(float, d.columns))\n",
    "ppm = np.array(cols)\n",
    "\n",
    "print(type(ppm[0]))"
   ]
  },
  {
   "cell_type": "code",
   "execution_count": 7,
   "metadata": {},
   "outputs": [],
   "source": [
    "from scipy.io import savemat\n",
    "savemat(\"C:/Users/Alex/Documents/NMR RSPA/October_Data/october_data_raw_data\",{'X': datas,'ppm': ppm})"
   ]
  },
  {
   "cell_type": "code",
   "execution_count": null,
   "metadata": {},
   "outputs": [],
   "source": []
  }
 ],
 "metadata": {
  "kernelspec": {
   "display_name": "Python 3",
   "language": "python",
   "name": "python3"
  },
  "language_info": {
   "codemirror_mode": {
    "name": "ipython",
    "version": 3
   },
   "file_extension": ".py",
   "mimetype": "text/x-python",
   "name": "python",
   "nbconvert_exporter": "python",
   "pygments_lexer": "ipython3",
   "version": "3.7.3"
  }
 },
 "nbformat": 4,
 "nbformat_minor": 2
}
